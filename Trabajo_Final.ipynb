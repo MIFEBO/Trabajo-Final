{
 "cells": [
  {
   "cell_type": "markdown",
   "metadata": {},
   "source": [
    "# TRABAJO FINAL BIG DATA "
   ]
  },
  {
   "cell_type": "code",
   "execution_count": 2,
   "metadata": {},
   "outputs": [],
   "source": [
    "# numpy, pandas, scipy, math, matplotlib \n",
    "import numpy as np\n",
    "import pandas as pd\n",
    "import seaborn as sns \n",
    "import matplotlib.pyplot as plt\n",
    "from sklearn.metrics import plot_confusion_matrix\n",
    "\n",
    "from sklearn.model_selection import train_test_split\n",
    "\n",
    "from sklearn.ensemble import RandomForestClassifier\n",
    "from sklearn.neural_network import MLPClassifier\n",
    "from sklearn.neighbors import KNeighborsClassifier\n",
    "from sklearn.svm import SVC\n",
    "\n",
    "from sklearn.model_selection import cross_val_score\n",
    "from sklearn.feature_selection import RFE\n",
    "from sklearn.decomposition import PCA\n",
    "from sklearn import metrics"
   ]
  },
  {
   "cell_type": "code",
   "execution_count": 4,
   "metadata": {},
   "outputs": [],
   "source": [
    "DSpriv = pd.read_csv(r'C:\\Users\\MICHAEL\\Desktop\\Big Data\\Módulo 5\\Trabajo Final\\Dataset_Privados_Libertad.csv', sep=';', header =0)"
   ]
  },
  {
   "cell_type": "code",
   "execution_count": 514,
   "metadata": {},
   "outputs": [
    {
     "data": {
      "text/html": [
       "<div>\n",
       "<style scoped>\n",
       "    .dataframe tbody tr th:only-of-type {\n",
       "        vertical-align: middle;\n",
       "    }\n",
       "\n",
       "    .dataframe tbody tr th {\n",
       "        vertical-align: top;\n",
       "    }\n",
       "\n",
       "    .dataframe thead th {\n",
       "        text-align: right;\n",
       "    }\n",
       "</style>\n",
       "<table border=\"1\" class=\"dataframe\">\n",
       "  <thead>\n",
       "    <tr style=\"text-align: right;\">\n",
       "      <th></th>\n",
       "      <th>EDAD</th>\n",
       "      <th>SEXO</th>\n",
       "      <th>NIVEL_EDUC</th>\n",
       "      <th>EST_CIVIL</th>\n",
       "      <th>HIJOS</th>\n",
       "      <th>NACIONALIDAD</th>\n",
       "      <th>PROVINCIA</th>\n",
       "      <th>DELITO</th>\n",
       "      <th>CONDENA</th>\n",
       "      <th>ESTUDIO</th>\n",
       "      <th>TRABAJO</th>\n",
       "      <th>EJE_CONDICIONAL</th>\n",
       "      <th>REINCIDENTE</th>\n",
       "    </tr>\n",
       "  </thead>\n",
       "  <tbody>\n",
       "    <tr>\n",
       "      <th>0</th>\n",
       "      <td>35</td>\n",
       "      <td>FEM</td>\n",
       "      <td>COL</td>\n",
       "      <td>UNI</td>\n",
       "      <td>SI</td>\n",
       "      <td>CRI</td>\n",
       "      <td>ALA</td>\n",
       "      <td>VID</td>\n",
       "      <td>117</td>\n",
       "      <td>SI</td>\n",
       "      <td>NO</td>\n",
       "      <td>FIR</td>\n",
       "      <td>NO</td>\n",
       "    </tr>\n",
       "    <tr>\n",
       "      <th>1</th>\n",
       "      <td>32</td>\n",
       "      <td>FEM</td>\n",
       "      <td>COL</td>\n",
       "      <td>OTR</td>\n",
       "      <td>SI</td>\n",
       "      <td>CRI</td>\n",
       "      <td>LIM</td>\n",
       "      <td>TID</td>\n",
       "      <td>168</td>\n",
       "      <td>NO</td>\n",
       "      <td>NO</td>\n",
       "      <td>DOR</td>\n",
       "      <td>NO</td>\n",
       "    </tr>\n",
       "    <tr>\n",
       "      <th>2</th>\n",
       "      <td>37</td>\n",
       "      <td>MAS</td>\n",
       "      <td>UNI</td>\n",
       "      <td>UNI</td>\n",
       "      <td>NO</td>\n",
       "      <td>CRI</td>\n",
       "      <td>HER</td>\n",
       "      <td>RHS</td>\n",
       "      <td>9</td>\n",
       "      <td>SI</td>\n",
       "      <td>SI</td>\n",
       "      <td>FIR</td>\n",
       "      <td>NO</td>\n",
       "    </tr>\n",
       "    <tr>\n",
       "      <th>3</th>\n",
       "      <td>43</td>\n",
       "      <td>MAS</td>\n",
       "      <td>ESC</td>\n",
       "      <td>SOL</td>\n",
       "      <td>SI</td>\n",
       "      <td>EXT</td>\n",
       "      <td>SJO</td>\n",
       "      <td>TID</td>\n",
       "      <td>180</td>\n",
       "      <td>SI</td>\n",
       "      <td>NO</td>\n",
       "      <td>DOR</td>\n",
       "      <td>NO</td>\n",
       "    </tr>\n",
       "    <tr>\n",
       "      <th>4</th>\n",
       "      <td>19</td>\n",
       "      <td>MAS</td>\n",
       "      <td>ESC</td>\n",
       "      <td>SOL</td>\n",
       "      <td>SI</td>\n",
       "      <td>CRI</td>\n",
       "      <td>ALA</td>\n",
       "      <td>TDR</td>\n",
       "      <td>78</td>\n",
       "      <td>NO</td>\n",
       "      <td>NO</td>\n",
       "      <td>TOB</td>\n",
       "      <td>SI</td>\n",
       "    </tr>\n",
       "  </tbody>\n",
       "</table>\n",
       "</div>"
      ],
      "text/plain": [
       "   EDAD SEXO NIVEL_EDUC EST_CIVIL HIJOS NACIONALIDAD PROVINCIA DELITO  \\\n",
       "0    35  FEM        COL       UNI    SI          CRI       ALA    VID   \n",
       "1    32  FEM        COL       OTR    SI          CRI       LIM    TID   \n",
       "2    37  MAS        UNI       UNI    NO          CRI       HER    RHS   \n",
       "3    43  MAS        ESC       SOL    SI          EXT       SJO    TID   \n",
       "4    19  MAS        ESC       SOL    SI          CRI       ALA    TDR   \n",
       "\n",
       "   CONDENA ESTUDIO TRABAJO EJE_CONDICIONAL REINCIDENTE  \n",
       "0      117      SI      NO             FIR          NO  \n",
       "1      168      NO      NO             DOR          NO  \n",
       "2        9      SI      SI             FIR          NO  \n",
       "3      180      SI      NO             DOR          NO  \n",
       "4       78      NO      NO             TOB          SI  "
      ]
     },
     "execution_count": 514,
     "metadata": {},
     "output_type": "execute_result"
    }
   ],
   "source": [
    "DSpriv.head()"
   ]
  },
  {
   "cell_type": "code",
   "execution_count": 515,
   "metadata": {
    "scrolled": true
   },
   "outputs": [
    {
     "name": "stdout",
     "output_type": "stream",
     "text": [
      "<class 'pandas.core.frame.DataFrame'>\n",
      "RangeIndex: 101000 entries, 0 to 100999\n",
      "Data columns (total 13 columns):\n",
      "EDAD               101000 non-null int64\n",
      "SEXO               101000 non-null object\n",
      "NIVEL_EDUC         101000 non-null object\n",
      "EST_CIVIL          101000 non-null object\n",
      "HIJOS              101000 non-null object\n",
      "NACIONALIDAD       101000 non-null object\n",
      "PROVINCIA          101000 non-null object\n",
      "DELITO             101000 non-null object\n",
      "CONDENA            101000 non-null int64\n",
      "ESTUDIO            101000 non-null object\n",
      "TRABAJO            101000 non-null object\n",
      "EJE_CONDICIONAL    101000 non-null object\n",
      "REINCIDENTE        101000 non-null object\n",
      "dtypes: int64(2), object(11)\n",
      "memory usage: 10.0+ MB\n"
     ]
    }
   ],
   "source": [
    "DSpriv.info ()"
   ]
  },
  {
   "cell_type": "code",
   "execution_count": 516,
   "metadata": {},
   "outputs": [
    {
     "data": {
      "text/html": [
       "<div>\n",
       "<style scoped>\n",
       "    .dataframe tbody tr th:only-of-type {\n",
       "        vertical-align: middle;\n",
       "    }\n",
       "\n",
       "    .dataframe tbody tr th {\n",
       "        vertical-align: top;\n",
       "    }\n",
       "\n",
       "    .dataframe thead th {\n",
       "        text-align: right;\n",
       "    }\n",
       "</style>\n",
       "<table border=\"1\" class=\"dataframe\">\n",
       "  <thead>\n",
       "    <tr style=\"text-align: right;\">\n",
       "      <th></th>\n",
       "      <th>EDAD</th>\n",
       "      <th>SEXO</th>\n",
       "      <th>NIVEL_EDUC</th>\n",
       "      <th>EST_CIVIL</th>\n",
       "      <th>HIJOS</th>\n",
       "      <th>NACIONALIDAD</th>\n",
       "      <th>PROVINCIA</th>\n",
       "      <th>DELITO</th>\n",
       "      <th>CONDENA</th>\n",
       "      <th>ESTUDIO</th>\n",
       "      <th>TRABAJO</th>\n",
       "      <th>EJE_CONDICIONAL</th>\n",
       "      <th>REINCIDENTE</th>\n",
       "    </tr>\n",
       "  </thead>\n",
       "  <tbody>\n",
       "    <tr>\n",
       "      <th>0</th>\n",
       "      <td>35</td>\n",
       "      <td>FEM</td>\n",
       "      <td>COL</td>\n",
       "      <td>UNI</td>\n",
       "      <td>SI</td>\n",
       "      <td>CRI</td>\n",
       "      <td>ALA</td>\n",
       "      <td>VID</td>\n",
       "      <td>117</td>\n",
       "      <td>SI</td>\n",
       "      <td>NO</td>\n",
       "      <td>FIR</td>\n",
       "      <td>NO</td>\n",
       "    </tr>\n",
       "    <tr>\n",
       "      <th>1</th>\n",
       "      <td>32</td>\n",
       "      <td>FEM</td>\n",
       "      <td>COL</td>\n",
       "      <td>OTR</td>\n",
       "      <td>SI</td>\n",
       "      <td>CRI</td>\n",
       "      <td>LIM</td>\n",
       "      <td>TID</td>\n",
       "      <td>168</td>\n",
       "      <td>NO</td>\n",
       "      <td>NO</td>\n",
       "      <td>DOR</td>\n",
       "      <td>NO</td>\n",
       "    </tr>\n",
       "    <tr>\n",
       "      <th>2</th>\n",
       "      <td>37</td>\n",
       "      <td>MAS</td>\n",
       "      <td>UNI</td>\n",
       "      <td>UNI</td>\n",
       "      <td>NO</td>\n",
       "      <td>CRI</td>\n",
       "      <td>HER</td>\n",
       "      <td>RHS</td>\n",
       "      <td>9</td>\n",
       "      <td>SI</td>\n",
       "      <td>SI</td>\n",
       "      <td>FIR</td>\n",
       "      <td>NO</td>\n",
       "    </tr>\n",
       "    <tr>\n",
       "      <th>3</th>\n",
       "      <td>43</td>\n",
       "      <td>MAS</td>\n",
       "      <td>ESC</td>\n",
       "      <td>SOL</td>\n",
       "      <td>SI</td>\n",
       "      <td>EXT</td>\n",
       "      <td>SJO</td>\n",
       "      <td>TID</td>\n",
       "      <td>180</td>\n",
       "      <td>SI</td>\n",
       "      <td>NO</td>\n",
       "      <td>DOR</td>\n",
       "      <td>NO</td>\n",
       "    </tr>\n",
       "    <tr>\n",
       "      <th>4</th>\n",
       "      <td>19</td>\n",
       "      <td>MAS</td>\n",
       "      <td>ESC</td>\n",
       "      <td>SOL</td>\n",
       "      <td>SI</td>\n",
       "      <td>CRI</td>\n",
       "      <td>ALA</td>\n",
       "      <td>TDR</td>\n",
       "      <td>78</td>\n",
       "      <td>NO</td>\n",
       "      <td>NO</td>\n",
       "      <td>TOB</td>\n",
       "      <td>SI</td>\n",
       "    </tr>\n",
       "  </tbody>\n",
       "</table>\n",
       "</div>"
      ],
      "text/plain": [
       "   EDAD SEXO NIVEL_EDUC EST_CIVIL HIJOS NACIONALIDAD PROVINCIA DELITO  \\\n",
       "0    35  FEM        COL       UNI    SI          CRI       ALA    VID   \n",
       "1    32  FEM        COL       OTR    SI          CRI       LIM    TID   \n",
       "2    37  MAS        UNI       UNI    NO          CRI       HER    RHS   \n",
       "3    43  MAS        ESC       SOL    SI          EXT       SJO    TID   \n",
       "4    19  MAS        ESC       SOL    SI          CRI       ALA    TDR   \n",
       "\n",
       "   CONDENA ESTUDIO TRABAJO EJE_CONDICIONAL REINCIDENTE  \n",
       "0      117      SI      NO             FIR          NO  \n",
       "1      168      NO      NO             DOR          NO  \n",
       "2        9      SI      SI             FIR          NO  \n",
       "3      180      SI      NO             DOR          NO  \n",
       "4       78      NO      NO             TOB          SI  "
      ]
     },
     "execution_count": 516,
     "metadata": {},
     "output_type": "execute_result"
    }
   ],
   "source": [
    "DSpriv.head()"
   ]
  },
  {
   "cell_type": "code",
   "execution_count": 517,
   "metadata": {
    "scrolled": false
   },
   "outputs": [
    {
     "data": {
      "text/html": [
       "<div>\n",
       "<style scoped>\n",
       "    .dataframe tbody tr th:only-of-type {\n",
       "        vertical-align: middle;\n",
       "    }\n",
       "\n",
       "    .dataframe tbody tr th {\n",
       "        vertical-align: top;\n",
       "    }\n",
       "\n",
       "    .dataframe thead th {\n",
       "        text-align: right;\n",
       "    }\n",
       "</style>\n",
       "<table border=\"1\" class=\"dataframe\">\n",
       "  <thead>\n",
       "    <tr style=\"text-align: right;\">\n",
       "      <th></th>\n",
       "      <th>EDAD</th>\n",
       "      <th>SEXO</th>\n",
       "      <th>NIVEL_EDUC</th>\n",
       "      <th>EST_CIVIL</th>\n",
       "      <th>HIJOS</th>\n",
       "      <th>NACIONALIDAD</th>\n",
       "      <th>PROVINCIA</th>\n",
       "      <th>DELITO</th>\n",
       "      <th>CONDENA</th>\n",
       "      <th>ESTUDIO</th>\n",
       "      <th>TRABAJO</th>\n",
       "      <th>EJE_CONDICIONAL</th>\n",
       "      <th>REINCIDENTE</th>\n",
       "    </tr>\n",
       "  </thead>\n",
       "  <tbody>\n",
       "    <tr>\n",
       "      <th>0</th>\n",
       "      <td>35</td>\n",
       "      <td>FEM</td>\n",
       "      <td>COL</td>\n",
       "      <td>UNI</td>\n",
       "      <td>SI</td>\n",
       "      <td>CRI</td>\n",
       "      <td>ALA</td>\n",
       "      <td>VID</td>\n",
       "      <td>117</td>\n",
       "      <td>SI</td>\n",
       "      <td>NO</td>\n",
       "      <td>FIR</td>\n",
       "      <td>NO</td>\n",
       "    </tr>\n",
       "    <tr>\n",
       "      <th>1</th>\n",
       "      <td>32</td>\n",
       "      <td>FEM</td>\n",
       "      <td>COL</td>\n",
       "      <td>OTR</td>\n",
       "      <td>SI</td>\n",
       "      <td>CRI</td>\n",
       "      <td>LIM</td>\n",
       "      <td>TID</td>\n",
       "      <td>168</td>\n",
       "      <td>NO</td>\n",
       "      <td>NO</td>\n",
       "      <td>DOR</td>\n",
       "      <td>NO</td>\n",
       "    </tr>\n",
       "    <tr>\n",
       "      <th>2</th>\n",
       "      <td>37</td>\n",
       "      <td>MAS</td>\n",
       "      <td>UNI</td>\n",
       "      <td>UNI</td>\n",
       "      <td>NO</td>\n",
       "      <td>CRI</td>\n",
       "      <td>HER</td>\n",
       "      <td>RHS</td>\n",
       "      <td>9</td>\n",
       "      <td>SI</td>\n",
       "      <td>SI</td>\n",
       "      <td>FIR</td>\n",
       "      <td>NO</td>\n",
       "    </tr>\n",
       "    <tr>\n",
       "      <th>3</th>\n",
       "      <td>43</td>\n",
       "      <td>MAS</td>\n",
       "      <td>ESC</td>\n",
       "      <td>SOL</td>\n",
       "      <td>SI</td>\n",
       "      <td>EXT</td>\n",
       "      <td>SJO</td>\n",
       "      <td>TID</td>\n",
       "      <td>180</td>\n",
       "      <td>SI</td>\n",
       "      <td>NO</td>\n",
       "      <td>DOR</td>\n",
       "      <td>NO</td>\n",
       "    </tr>\n",
       "    <tr>\n",
       "      <th>4</th>\n",
       "      <td>19</td>\n",
       "      <td>MAS</td>\n",
       "      <td>ESC</td>\n",
       "      <td>SOL</td>\n",
       "      <td>SI</td>\n",
       "      <td>CRI</td>\n",
       "      <td>ALA</td>\n",
       "      <td>TDR</td>\n",
       "      <td>78</td>\n",
       "      <td>NO</td>\n",
       "      <td>NO</td>\n",
       "      <td>TOB</td>\n",
       "      <td>SI</td>\n",
       "    </tr>\n",
       "    <tr>\n",
       "      <th>...</th>\n",
       "      <td>...</td>\n",
       "      <td>...</td>\n",
       "      <td>...</td>\n",
       "      <td>...</td>\n",
       "      <td>...</td>\n",
       "      <td>...</td>\n",
       "      <td>...</td>\n",
       "      <td>...</td>\n",
       "      <td>...</td>\n",
       "      <td>...</td>\n",
       "      <td>...</td>\n",
       "      <td>...</td>\n",
       "      <td>...</td>\n",
       "    </tr>\n",
       "    <tr>\n",
       "      <th>100995</th>\n",
       "      <td>55</td>\n",
       "      <td>MAS</td>\n",
       "      <td>COL</td>\n",
       "      <td>UNI</td>\n",
       "      <td>SI</td>\n",
       "      <td>CRI</td>\n",
       "      <td>CAR</td>\n",
       "      <td>FRA</td>\n",
       "      <td>36</td>\n",
       "      <td>SI</td>\n",
       "      <td>NO</td>\n",
       "      <td>RES</td>\n",
       "      <td>SI</td>\n",
       "    </tr>\n",
       "    <tr>\n",
       "      <th>100996</th>\n",
       "      <td>30</td>\n",
       "      <td>FEM</td>\n",
       "      <td>UNI</td>\n",
       "      <td>UNI</td>\n",
       "      <td>SI</td>\n",
       "      <td>EXT</td>\n",
       "      <td>ALA</td>\n",
       "      <td>TID</td>\n",
       "      <td>165</td>\n",
       "      <td>NO</td>\n",
       "      <td>NO</td>\n",
       "      <td>DOR</td>\n",
       "      <td>NO</td>\n",
       "    </tr>\n",
       "    <tr>\n",
       "      <th>100997</th>\n",
       "      <td>36</td>\n",
       "      <td>MAS</td>\n",
       "      <td>COL</td>\n",
       "      <td>UNI</td>\n",
       "      <td>SI</td>\n",
       "      <td>CRI</td>\n",
       "      <td>LIM</td>\n",
       "      <td>SEX</td>\n",
       "      <td>75</td>\n",
       "      <td>SI</td>\n",
       "      <td>NO</td>\n",
       "      <td>DOR</td>\n",
       "      <td>NO</td>\n",
       "    </tr>\n",
       "    <tr>\n",
       "      <th>100998</th>\n",
       "      <td>18</td>\n",
       "      <td>MAS</td>\n",
       "      <td>UNI</td>\n",
       "      <td>UNI</td>\n",
       "      <td>SI</td>\n",
       "      <td>CRI</td>\n",
       "      <td>CAR</td>\n",
       "      <td>TDR</td>\n",
       "      <td>90</td>\n",
       "      <td>NO</td>\n",
       "      <td>NO</td>\n",
       "      <td>TOB</td>\n",
       "      <td>SI</td>\n",
       "    </tr>\n",
       "    <tr>\n",
       "      <th>100999</th>\n",
       "      <td>22</td>\n",
       "      <td>MAS</td>\n",
       "      <td>COL</td>\n",
       "      <td>SOL</td>\n",
       "      <td>SI</td>\n",
       "      <td>CRI</td>\n",
       "      <td>ALA</td>\n",
       "      <td>TID</td>\n",
       "      <td>165</td>\n",
       "      <td>SI</td>\n",
       "      <td>NO</td>\n",
       "      <td>FIR</td>\n",
       "      <td>NO</td>\n",
       "    </tr>\n",
       "  </tbody>\n",
       "</table>\n",
       "<p>101000 rows × 13 columns</p>\n",
       "</div>"
      ],
      "text/plain": [
       "        EDAD SEXO NIVEL_EDUC EST_CIVIL HIJOS NACIONALIDAD PROVINCIA DELITO  \\\n",
       "0         35  FEM        COL       UNI    SI          CRI       ALA    VID   \n",
       "1         32  FEM        COL       OTR    SI          CRI       LIM    TID   \n",
       "2         37  MAS        UNI       UNI    NO          CRI       HER    RHS   \n",
       "3         43  MAS        ESC       SOL    SI          EXT       SJO    TID   \n",
       "4         19  MAS        ESC       SOL    SI          CRI       ALA    TDR   \n",
       "...      ...  ...        ...       ...   ...          ...       ...    ...   \n",
       "100995    55  MAS        COL       UNI    SI          CRI       CAR    FRA   \n",
       "100996    30  FEM        UNI       UNI    SI          EXT       ALA    TID   \n",
       "100997    36  MAS        COL       UNI    SI          CRI       LIM    SEX   \n",
       "100998    18  MAS        UNI       UNI    SI          CRI       CAR    TDR   \n",
       "100999    22  MAS        COL       SOL    SI          CRI       ALA    TID   \n",
       "\n",
       "        CONDENA ESTUDIO TRABAJO EJE_CONDICIONAL REINCIDENTE  \n",
       "0           117      SI      NO             FIR          NO  \n",
       "1           168      NO      NO             DOR          NO  \n",
       "2             9      SI      SI             FIR          NO  \n",
       "3           180      SI      NO             DOR          NO  \n",
       "4            78      NO      NO             TOB          SI  \n",
       "...         ...     ...     ...             ...         ...  \n",
       "100995       36      SI      NO             RES          SI  \n",
       "100996      165      NO      NO             DOR          NO  \n",
       "100997       75      SI      NO             DOR          NO  \n",
       "100998       90      NO      NO             TOB          SI  \n",
       "100999      165      SI      NO             FIR          NO  \n",
       "\n",
       "[101000 rows x 13 columns]"
      ]
     },
     "execution_count": 517,
     "metadata": {},
     "output_type": "execute_result"
    }
   ],
   "source": [
    "DSpriv"
   ]
  },
  {
   "cell_type": "code",
   "execution_count": 522,
   "metadata": {},
   "outputs": [
    {
     "name": "stdout",
     "output_type": "stream",
     "text": [
      "<class 'pandas.core.frame.DataFrame'>\n",
      "RangeIndex: 101000 entries, 0 to 100999\n",
      "Data columns (total 13 columns):\n",
      "EDAD               101000 non-null category\n",
      "SEXO               101000 non-null object\n",
      "NIVEL_EDUC         101000 non-null object\n",
      "EST_CIVIL          101000 non-null object\n",
      "HIJOS              101000 non-null object\n",
      "NACIONALIDAD       101000 non-null object\n",
      "PROVINCIA          101000 non-null object\n",
      "DELITO             101000 non-null object\n",
      "CONDENA            101000 non-null int64\n",
      "ESTUDIO            101000 non-null object\n",
      "TRABAJO            101000 non-null object\n",
      "EJE_CONDICIONAL    101000 non-null object\n",
      "REINCIDENTE        101000 non-null object\n",
      "dtypes: category(1), int64(1), object(11)\n",
      "memory usage: 9.3+ MB\n"
     ]
    }
   ],
   "source": [
    "#Agrupación de edades en Rangos 18-30, 31-40, 41-50, 51-60, 61-70, 71-100\n",
    "bins = [17,30,40,50,60,70,100]\n",
    "names = [\"18-30\",\"31-40\",\"41-50\",\"51-60\",\"61-70\",\"71-100\"]\n",
    "DSpriv[\"EDAD\"] = pd.cut(DSpriv[\"EDAD\"], bins, labels = names)\n",
    "DSpriv.info ()"
   ]
  },
  {
   "cell_type": "code",
   "execution_count": 5,
   "metadata": {},
   "outputs": [
    {
     "name": "stdout",
     "output_type": "stream",
     "text": [
      "<class 'pandas.core.frame.DataFrame'>\n",
      "RangeIndex: 101000 entries, 0 to 100999\n",
      "Data columns (total 13 columns):\n",
      "EDAD               101000 non-null int64\n",
      "SEXO               101000 non-null object\n",
      "NIVEL_EDUC         101000 non-null object\n",
      "EST_CIVIL          101000 non-null object\n",
      "HIJOS              101000 non-null object\n",
      "NACIONALIDAD       101000 non-null object\n",
      "PROVINCIA          101000 non-null object\n",
      "DELITO             101000 non-null object\n",
      "CONDENA            101000 non-null category\n",
      "ESTUDIO            101000 non-null object\n",
      "TRABAJO            101000 non-null object\n",
      "EJE_CONDICIONAL    101000 non-null object\n",
      "REINCIDENTE        101000 non-null object\n",
      "dtypes: category(1), int64(1), object(11)\n",
      "memory usage: 9.3+ MB\n"
     ]
    }
   ],
   "source": [
    "#Agrupación de edades en Rangos 0-24, 25-48, 49-72, 73-120, 121-168, 169-216, 217-360, 361-600\n",
    "bins = [0,24,48,72,120,168,216,360,600]\n",
    "names = [\"0-24\",\"25-48\",\"49-72\",\"73-120\",\"121-168\",\"169-216\",\"217-360\",\"361-600\"]\n",
    "DSpriv[\"CONDENA\"] = pd.cut(DSpriv[\"CONDENA\"], bins, labels = names)\n",
    "DSpriv.info ()"
   ]
  },
  {
   "cell_type": "markdown",
   "metadata": {},
   "source": [
    "# Visualizaciones"
   ]
  },
  {
   "cell_type": "code",
   "execution_count": 7,
   "metadata": {},
   "outputs": [],
   "source": [
    "sns.set_palette(\"colorblind\")"
   ]
  },
  {
   "cell_type": "code",
   "execution_count": 549,
   "metadata": {},
   "outputs": [
    {
     "data": {
      "text/plain": [
       "<seaborn.axisgrid.FacetGrid at 0x2c800d16c8>"
      ]
     },
     "execution_count": 549,
     "metadata": {},
     "output_type": "execute_result"
    },
    {
     "data": {
      "image/png": "[encoded data removed]",
      "text/plain": [
       "<Figure size 705x360 with 1 Axes>"
      ]
     },
     "metadata": {
      "needs_background": "light"
     },
     "output_type": "display_data"
    }
   ],
   "source": [
    "gEdad = sns.factorplot('EDAD', data=DSpriv, hue='REINCIDENTE', kind='count', aspect=1.75)\n",
    "gEdad.set_xlabels('EDAD')"
   ]
  },
  {
   "cell_type": "code",
   "execution_count": 550,
   "metadata": {},
   "outputs": [
    {
     "data": {
      "text/plain": [
       "<seaborn.axisgrid.FacetGrid at 0x2c8014f0c8>"
      ]
     },
     "execution_count": 550,
     "metadata": {},
     "output_type": "execute_result"
    },
    {
     "data": {
      "image/png": "[encoded data removed]",
      "text/plain": [
       "<Figure size 705x360 with 1 Axes>"
      ]
     },
     "metadata": {
      "needs_background": "light"
     },
     "output_type": "display_data"
    }
   ],
   "source": [
    "gSexo = sns.factorplot('SEXO', data=DSpriv, hue='REINCIDENTE', kind='count', aspect=1.75)\n",
    "gSexo.set_xlabels('SEXO')"
   ]
  },
  {
   "cell_type": "code",
   "execution_count": 551,
   "metadata": {},
   "outputs": [
    {
     "data": {
      "text/plain": [
       "<seaborn.axisgrid.FacetGrid at 0x2c80191308>"
      ]
     },
     "execution_count": 551,
     "metadata": {},
     "output_type": "execute_result"
    },
    {
     "data": {
      "image/png": "[encoded data removed]",
      "text/plain": [
       "<Figure size 705x360 with 1 Axes>"
      ]
     },
     "metadata": {
      "needs_background": "light"
     },
     "output_type": "display_data"
    }
   ],
   "source": [
    "gEdu = sns.factorplot('NIVEL_EDUC', data=DSpriv, hue='REINCIDENTE', kind='count', aspect=1.75)\n",
    "gEdu.set_xlabels('NIVEL_EDUC')"
   ]
  },
  {
   "cell_type": "code",
   "execution_count": 552,
   "metadata": {},
   "outputs": [
    {
     "data": {
      "text/plain": [
       "<seaborn.axisgrid.FacetGrid at 0x2c80248288>"
      ]
     },
     "execution_count": 552,
     "metadata": {},
     "output_type": "execute_result"
    },
    {
     "data": {
      "image/png": "[encoded data removed]",
      "text/plain": [
       "<Figure size 705x360 with 1 Axes>"
      ]
     },
     "metadata": {
      "needs_background": "light"
     },
     "output_type": "display_data"
    }
   ],
   "source": [
    "sns.set_palette(\"colorblind\")\n",
    "gHijos = sns.factorplot('HIJOS', data=DSpriv, hue='REINCIDENTE', kind='count', aspect=1.75)\n",
    "gHijos.set_xlabels('HIJOS')"
   ]
  },
  {
   "cell_type": "code",
   "execution_count": 553,
   "metadata": {},
   "outputs": [
    {
     "data": {
      "text/plain": [
       "<seaborn.axisgrid.FacetGrid at 0x2c802cbe08>"
      ]
     },
     "execution_count": 553,
     "metadata": {},
     "output_type": "execute_result"
    },
    {
     "data": {
      "image/png": "[encoded data removed]",
      "text/plain": [
       "<Figure size 705x360 with 1 Axes>"
      ]
     },
     "metadata": {
      "needs_background": "light"
     },
     "output_type": "display_data"
    }
   ],
   "source": [
    "gNac = sns.factorplot('NACIONALIDAD', data=DSpriv, hue='REINCIDENTE', kind='count', aspect=1.75)\n",
    "gNac.set_xlabels('NACIONALIDAD')"
   ]
  },
  {
   "cell_type": "code",
   "execution_count": 554,
   "metadata": {},
   "outputs": [
    {
     "data": {
      "text/plain": [
       "<seaborn.axisgrid.FacetGrid at 0x2c801ffb08>"
      ]
     },
     "execution_count": 554,
     "metadata": {},
     "output_type": "execute_result"
    },
    {
     "data": {
      "image/png": "[encoded data removed]",
      "text/plain": [
       "<Figure size 705x360 with 1 Axes>"
      ]
     },
     "metadata": {
      "needs_background": "light"
     },
     "output_type": "display_data"
    }
   ],
   "source": [
    "gProv = sns.factorplot('PROVINCIA', data=DSpriv, hue='REINCIDENTE', kind='count', aspect=1.75)\n",
    "gProv.set_xlabels('PROVINCIA')"
   ]
  },
  {
   "cell_type": "code",
   "execution_count": 555,
   "metadata": {},
   "outputs": [
    {
     "data": {
      "text/plain": [
       "<seaborn.axisgrid.FacetGrid at 0x2c803b1708>"
      ]
     },
     "execution_count": 555,
     "metadata": {},
     "output_type": "execute_result"
    },
    {
     "data": {
      "image/png": "[encoded data removed]",
      "text/plain": [
       "<Figure size 705x360 with 1 Axes>"
      ]
     },
     "metadata": {
      "needs_background": "light"
     },
     "output_type": "display_data"
    }
   ],
   "source": [
    "gDelito = sns.factorplot('DELITO', data=DSpriv, hue='REINCIDENTE', kind='count', aspect=1.75)\n",
    "gDelito.set_xlabels('DELITO')"
   ]
  },
  {
   "cell_type": "code",
   "execution_count": 8,
   "metadata": {},
   "outputs": [
    {
     "data": {
      "text/plain": [
       "<seaborn.axisgrid.FacetGrid at 0xf4daed2808>"
      ]
     },
     "execution_count": 8,
     "metadata": {},
     "output_type": "execute_result"
    },
    {
     "data": {
      "image/png": "[encoded data removed]",
      "text/plain": [
       "<Figure size 705x360 with 1 Axes>"
      ]
     },
     "metadata": {
      "needs_background": "light"
     },
     "output_type": "display_data"
    }
   ],
   "source": [
    "gCondena = sns.factorplot('CONDENA', data=DSpriv, hue='REINCIDENTE', kind='count', aspect=1.75)\n",
    "gCondena.set_xlabels('CONDENA')"
   ]
  },
  {
   "cell_type": "code",
   "execution_count": 557,
   "metadata": {},
   "outputs": [
    {
     "data": {
      "text/plain": [
       "<seaborn.axisgrid.FacetGrid at 0x2c89062ec8>"
      ]
     },
     "execution_count": 557,
     "metadata": {},
     "output_type": "execute_result"
    },
    {
     "data": {
      "image/png": "[encoded data removed]",
      "text/plain": [
       "<Figure size 705x360 with 1 Axes>"
      ]
     },
     "metadata": {
      "needs_background": "light"
     },
     "output_type": "display_data"
    }
   ],
   "source": [
    "gEstudio = sns.factorplot('ESTUDIO', data=DSpriv, hue='REINCIDENTE', kind='count', aspect=1.75)\n",
    "gEstudio.set_xlabels('ESTUDIO')"
   ]
  },
  {
   "cell_type": "code",
   "execution_count": 558,
   "metadata": {},
   "outputs": [
    {
     "data": {
      "text/plain": [
       "<seaborn.axisgrid.FacetGrid at 0x2c8901e908>"
      ]
     },
     "execution_count": 558,
     "metadata": {},
     "output_type": "execute_result"
    },
    {
     "data": {
      "image/png": "[encoded data removed]",
      "text/plain": [
       "<Figure size 705x360 with 1 Axes>"
      ]
     },
     "metadata": {
      "needs_background": "light"
     },
     "output_type": "display_data"
    }
   ],
   "source": [
    "gTrabajo = sns.factorplot('TRABAJO', data=DSpriv, hue='REINCIDENTE', kind='count', aspect=1.75)\n",
    "gTrabajo.set_xlabels('TRABAJO')"
   ]
  },
  {
   "cell_type": "code",
   "execution_count": 559,
   "metadata": {},
   "outputs": [
    {
     "data": {
      "text/plain": [
       "<seaborn.axisgrid.FacetGrid at 0x2c8916b108>"
      ]
     },
     "execution_count": 559,
     "metadata": {},
     "output_type": "execute_result"
    },
    {
     "data": {
      "image/png": "[encoded data removed]",
      "text/plain": [
       "<Figure size 705x360 with 1 Axes>"
      ]
     },
     "metadata": {
      "needs_background": "light"
     },
     "output_type": "display_data"
    }
   ],
   "source": [
    "gCond = sns.factorplot('EJE_CONDICIONAL', data=DSpriv, hue='REINCIDENTE', kind='count', aspect=1.75)\n",
    "gCond.set_xlabels('EJE_CONDICIONAL')"
   ]
  },
  {
   "cell_type": "markdown",
   "metadata": {},
   "source": [
    "# TRANSFORMACIÓN DE LOS DATOS"
   ]
  },
  {
   "cell_type": "code",
   "execution_count": 560,
   "metadata": {},
   "outputs": [
    {
     "name": "stdout",
     "output_type": "stream",
     "text": [
      "<class 'pandas.core.frame.DataFrame'>\n",
      "RangeIndex: 101000 entries, 0 to 100999\n",
      "Data columns (total 13 columns):\n",
      "EDAD               101000 non-null int64\n",
      "SEXO               101000 non-null object\n",
      "NIVEL_EDUC         101000 non-null object\n",
      "EST_CIVIL          101000 non-null object\n",
      "HIJOS              101000 non-null object\n",
      "NACIONALIDAD       101000 non-null object\n",
      "PROVINCIA          101000 non-null object\n",
      "DELITO             101000 non-null object\n",
      "CONDENA            101000 non-null category\n",
      "ESTUDIO            101000 non-null object\n",
      "TRABAJO            101000 non-null object\n",
      "EJE_CONDICIONAL    101000 non-null object\n",
      "REINCIDENTE        101000 non-null object\n",
      "dtypes: category(1), int64(1), object(11)\n",
      "memory usage: 9.3+ MB\n"
     ]
    }
   ],
   "source": [
    "DSpriv[\"EDAD\"].replace({\"18-30\": 1, \"31-40\":2, \"41-50\":3, \"51-60\": 4, \"61-70\":5, \"71-100\":6}, inplace=True)\n",
    "DSpriv.info ()"
   ]
  },
  {
   "cell_type": "code",
   "execution_count": 561,
   "metadata": {},
   "outputs": [
    {
     "name": "stdout",
     "output_type": "stream",
     "text": [
      "<class 'pandas.core.frame.DataFrame'>\n",
      "RangeIndex: 101000 entries, 0 to 100999\n",
      "Data columns (total 13 columns):\n",
      "EDAD               101000 non-null int64\n",
      "SEXO               101000 non-null int64\n",
      "NIVEL_EDUC         101000 non-null object\n",
      "EST_CIVIL          101000 non-null object\n",
      "HIJOS              101000 non-null object\n",
      "NACIONALIDAD       101000 non-null object\n",
      "PROVINCIA          101000 non-null object\n",
      "DELITO             101000 non-null object\n",
      "CONDENA            101000 non-null category\n",
      "ESTUDIO            101000 non-null object\n",
      "TRABAJO            101000 non-null object\n",
      "EJE_CONDICIONAL    101000 non-null object\n",
      "REINCIDENTE        101000 non-null object\n",
      "dtypes: category(1), int64(2), object(10)\n",
      "memory usage: 9.3+ MB\n"
     ]
    }
   ],
   "source": [
    "DSpriv[\"SEXO\"].replace({\"MAS\": 1, \"FEM\":2}, inplace=True)\n",
    "DSpriv.info ()"
   ]
  },
  {
   "cell_type": "code",
   "execution_count": 562,
   "metadata": {},
   "outputs": [
    {
     "name": "stdout",
     "output_type": "stream",
     "text": [
      "<class 'pandas.core.frame.DataFrame'>\n",
      "RangeIndex: 101000 entries, 0 to 100999\n",
      "Data columns (total 13 columns):\n",
      "EDAD               101000 non-null int64\n",
      "SEXO               101000 non-null int64\n",
      "NIVEL_EDUC         101000 non-null int64\n",
      "EST_CIVIL          101000 non-null object\n",
      "HIJOS              101000 non-null object\n",
      "NACIONALIDAD       101000 non-null object\n",
      "PROVINCIA          101000 non-null object\n",
      "DELITO             101000 non-null object\n",
      "CONDENA            101000 non-null category\n",
      "ESTUDIO            101000 non-null object\n",
      "TRABAJO            101000 non-null object\n",
      "EJE_CONDICIONAL    101000 non-null object\n",
      "REINCIDENTE        101000 non-null object\n",
      "dtypes: category(1), int64(3), object(9)\n",
      "memory usage: 9.3+ MB\n"
     ]
    }
   ],
   "source": [
    "DSpriv[\"NIVEL_EDUC\"].replace({\"ESC\": 1, \"COL\":2, \"UNI\":3, \"POS\": 4}, inplace=True)\n",
    "DSpriv.info ()"
   ]
  },
  {
   "cell_type": "code",
   "execution_count": 563,
   "metadata": {},
   "outputs": [
    {
     "name": "stdout",
     "output_type": "stream",
     "text": [
      "<class 'pandas.core.frame.DataFrame'>\n",
      "RangeIndex: 101000 entries, 0 to 100999\n",
      "Data columns (total 13 columns):\n",
      "EDAD               101000 non-null int64\n",
      "SEXO               101000 non-null int64\n",
      "NIVEL_EDUC         101000 non-null int64\n",
      "EST_CIVIL          101000 non-null int64\n",
      "HIJOS              101000 non-null object\n",
      "NACIONALIDAD       101000 non-null object\n",
      "PROVINCIA          101000 non-null object\n",
      "DELITO             101000 non-null object\n",
      "CONDENA            101000 non-null category\n",
      "ESTUDIO            101000 non-null object\n",
      "TRABAJO            101000 non-null object\n",
      "EJE_CONDICIONAL    101000 non-null object\n",
      "REINCIDENTE        101000 non-null object\n",
      "dtypes: category(1), int64(4), object(8)\n",
      "memory usage: 9.3+ MB\n"
     ]
    }
   ],
   "source": [
    "DSpriv[\"EST_CIVIL\"].replace({\"CAS\": 1, \"SOL\":2, \"UNI\":3, \"OTR\": 4}, inplace=True)\n",
    "DSpriv.info ()"
   ]
  },
  {
   "cell_type": "code",
   "execution_count": 564,
   "metadata": {},
   "outputs": [
    {
     "name": "stdout",
     "output_type": "stream",
     "text": [
      "<class 'pandas.core.frame.DataFrame'>\n",
      "RangeIndex: 101000 entries, 0 to 100999\n",
      "Data columns (total 13 columns):\n",
      "EDAD               101000 non-null int64\n",
      "SEXO               101000 non-null int64\n",
      "NIVEL_EDUC         101000 non-null int64\n",
      "EST_CIVIL          101000 non-null int64\n",
      "HIJOS              101000 non-null int64\n",
      "NACIONALIDAD       101000 non-null object\n",
      "PROVINCIA          101000 non-null object\n",
      "DELITO             101000 non-null object\n",
      "CONDENA            101000 non-null category\n",
      "ESTUDIO            101000 non-null object\n",
      "TRABAJO            101000 non-null object\n",
      "EJE_CONDICIONAL    101000 non-null object\n",
      "REINCIDENTE        101000 non-null object\n",
      "dtypes: category(1), int64(5), object(7)\n",
      "memory usage: 9.3+ MB\n"
     ]
    }
   ],
   "source": [
    "DSpriv[\"HIJOS\"].replace({\"SI\": 1, \"NO\":0}, inplace=True)\n",
    "DSpriv.info ()"
   ]
  },
  {
   "cell_type": "code",
   "execution_count": 565,
   "metadata": {},
   "outputs": [
    {
     "name": "stdout",
     "output_type": "stream",
     "text": [
      "<class 'pandas.core.frame.DataFrame'>\n",
      "RangeIndex: 101000 entries, 0 to 100999\n",
      "Data columns (total 13 columns):\n",
      "EDAD               101000 non-null int64\n",
      "SEXO               101000 non-null int64\n",
      "NIVEL_EDUC         101000 non-null int64\n",
      "EST_CIVIL          101000 non-null int64\n",
      "HIJOS              101000 non-null int64\n",
      "NACIONALIDAD       101000 non-null int64\n",
      "PROVINCIA          101000 non-null object\n",
      "DELITO             101000 non-null object\n",
      "CONDENA            101000 non-null category\n",
      "ESTUDIO            101000 non-null object\n",
      "TRABAJO            101000 non-null object\n",
      "EJE_CONDICIONAL    101000 non-null object\n",
      "REINCIDENTE        101000 non-null object\n",
      "dtypes: category(1), int64(6), object(6)\n",
      "memory usage: 9.3+ MB\n"
     ]
    }
   ],
   "source": [
    "DSpriv[\"NACIONALIDAD\"].replace({\"CRI\": 1, \"EXT\":2}, inplace=True)\n",
    "DSpriv.info ()"
   ]
  },
  {
   "cell_type": "code",
   "execution_count": 566,
   "metadata": {},
   "outputs": [
    {
     "name": "stdout",
     "output_type": "stream",
     "text": [
      "<class 'pandas.core.frame.DataFrame'>\n",
      "RangeIndex: 101000 entries, 0 to 100999\n",
      "Data columns (total 13 columns):\n",
      "EDAD               101000 non-null int64\n",
      "SEXO               101000 non-null int64\n",
      "NIVEL_EDUC         101000 non-null int64\n",
      "EST_CIVIL          101000 non-null int64\n",
      "HIJOS              101000 non-null int64\n",
      "NACIONALIDAD       101000 non-null int64\n",
      "PROVINCIA          101000 non-null int64\n",
      "DELITO             101000 non-null object\n",
      "CONDENA            101000 non-null category\n",
      "ESTUDIO            101000 non-null object\n",
      "TRABAJO            101000 non-null object\n",
      "EJE_CONDICIONAL    101000 non-null object\n",
      "REINCIDENTE        101000 non-null object\n",
      "dtypes: category(1), int64(7), object(5)\n",
      "memory usage: 9.3+ MB\n"
     ]
    }
   ],
   "source": [
    "DSpriv[\"PROVINCIA\"].replace({\"SJO\": 1, \"ALA\":2, \"CAR\":3, \"HER\": 4, \"GUA\":5, \"PUN\":6, \"LIM\": 7}, inplace=True)\n",
    "DSpriv.info ()"
   ]
  },
  {
   "cell_type": "code",
   "execution_count": 567,
   "metadata": {},
   "outputs": [
    {
     "name": "stdout",
     "output_type": "stream",
     "text": [
      "<class 'pandas.core.frame.DataFrame'>\n",
      "RangeIndex: 101000 entries, 0 to 100999\n",
      "Data columns (total 13 columns):\n",
      "EDAD               101000 non-null int64\n",
      "SEXO               101000 non-null int64\n",
      "NIVEL_EDUC         101000 non-null int64\n",
      "EST_CIVIL          101000 non-null int64\n",
      "HIJOS              101000 non-null int64\n",
      "NACIONALIDAD       101000 non-null int64\n",
      "PROVINCIA          101000 non-null int64\n",
      "DELITO             101000 non-null int64\n",
      "CONDENA            101000 non-null category\n",
      "ESTUDIO            101000 non-null object\n",
      "TRABAJO            101000 non-null object\n",
      "EJE_CONDICIONAL    101000 non-null object\n",
      "REINCIDENTE        101000 non-null object\n",
      "dtypes: category(1), int64(8), object(4)\n",
      "memory usage: 9.3+ MB\n"
     ]
    }
   ],
   "source": [
    "DSpriv[\"DELITO\"].replace({\"TDR\": 1, \"TID\":2, \"TRA\":3, \"VID\": 4, \"PRO\":5, \"RHS\":6, \"RHV\": 7, \"SEX\":8, \"FRA\":9, \"PUB\": 10}, inplace=True)\n",
    "DSpriv.info ()"
   ]
  },
  {
   "cell_type": "code",
   "execution_count": 568,
   "metadata": {},
   "outputs": [
    {
     "name": "stdout",
     "output_type": "stream",
     "text": [
      "<class 'pandas.core.frame.DataFrame'>\n",
      "RangeIndex: 101000 entries, 0 to 100999\n",
      "Data columns (total 13 columns):\n",
      "EDAD               101000 non-null int64\n",
      "SEXO               101000 non-null int64\n",
      "NIVEL_EDUC         101000 non-null int64\n",
      "EST_CIVIL          101000 non-null int64\n",
      "HIJOS              101000 non-null int64\n",
      "NACIONALIDAD       101000 non-null int64\n",
      "PROVINCIA          101000 non-null int64\n",
      "DELITO             101000 non-null int64\n",
      "CONDENA            101000 non-null object\n",
      "ESTUDIO            101000 non-null object\n",
      "TRABAJO            101000 non-null object\n",
      "EJE_CONDICIONAL    101000 non-null object\n",
      "REINCIDENTE        101000 non-null object\n",
      "dtypes: int64(8), object(5)\n",
      "memory usage: 10.0+ MB\n"
     ]
    }
   ],
   "source": [
    "DSpriv[\"CONDENA\"].replace({\"0-24\":1, \"25-48\":2, \"49-72\":3, \"73-120\":4, \"121-168\":5, \"169-216\":6, \"217-360\":7, \"361-600\":8}, inplace=True)\n",
    "DSpriv.info ()"
   ]
  },
  {
   "cell_type": "code",
   "execution_count": 569,
   "metadata": {},
   "outputs": [
    {
     "name": "stdout",
     "output_type": "stream",
     "text": [
      "<class 'pandas.core.frame.DataFrame'>\n",
      "RangeIndex: 101000 entries, 0 to 100999\n",
      "Data columns (total 13 columns):\n",
      "EDAD               101000 non-null int64\n",
      "SEXO               101000 non-null int64\n",
      "NIVEL_EDUC         101000 non-null int64\n",
      "EST_CIVIL          101000 non-null int64\n",
      "HIJOS              101000 non-null int64\n",
      "NACIONALIDAD       101000 non-null int64\n",
      "PROVINCIA          101000 non-null int64\n",
      "DELITO             101000 non-null int64\n",
      "CONDENA            101000 non-null object\n",
      "ESTUDIO            101000 non-null int64\n",
      "TRABAJO            101000 non-null object\n",
      "EJE_CONDICIONAL    101000 non-null object\n",
      "REINCIDENTE        101000 non-null object\n",
      "dtypes: int64(9), object(4)\n",
      "memory usage: 10.0+ MB\n"
     ]
    }
   ],
   "source": [
    "DSpriv[\"ESTUDIO\"].replace({\"SI\": 1, \"NO\":0}, inplace=True)\n",
    "DSpriv.info ()"
   ]
  },
  {
   "cell_type": "code",
   "execution_count": 570,
   "metadata": {},
   "outputs": [
    {
     "name": "stdout",
     "output_type": "stream",
     "text": [
      "<class 'pandas.core.frame.DataFrame'>\n",
      "RangeIndex: 101000 entries, 0 to 100999\n",
      "Data columns (total 13 columns):\n",
      "EDAD               101000 non-null int64\n",
      "SEXO               101000 non-null int64\n",
      "NIVEL_EDUC         101000 non-null int64\n",
      "EST_CIVIL          101000 non-null int64\n",
      "HIJOS              101000 non-null int64\n",
      "NACIONALIDAD       101000 non-null int64\n",
      "PROVINCIA          101000 non-null int64\n",
      "DELITO             101000 non-null int64\n",
      "CONDENA            101000 non-null object\n",
      "ESTUDIO            101000 non-null int64\n",
      "TRABAJO            101000 non-null int64\n",
      "EJE_CONDICIONAL    101000 non-null object\n",
      "REINCIDENTE        101000 non-null object\n",
      "dtypes: int64(10), object(3)\n",
      "memory usage: 10.0+ MB\n"
     ]
    }
   ],
   "source": [
    "DSpriv[\"TRABAJO\"].replace({\"SI\": 1, \"NO\":0}, inplace=True)\n",
    "DSpriv.info ()"
   ]
  },
  {
   "cell_type": "code",
   "execution_count": 571,
   "metadata": {},
   "outputs": [
    {
     "name": "stdout",
     "output_type": "stream",
     "text": [
      "<class 'pandas.core.frame.DataFrame'>\n",
      "RangeIndex: 101000 entries, 0 to 100999\n",
      "Data columns (total 13 columns):\n",
      "EDAD               101000 non-null int64\n",
      "SEXO               101000 non-null int64\n",
      "NIVEL_EDUC         101000 non-null int64\n",
      "EST_CIVIL          101000 non-null int64\n",
      "HIJOS              101000 non-null int64\n",
      "NACIONALIDAD       101000 non-null int64\n",
      "PROVINCIA          101000 non-null int64\n",
      "DELITO             101000 non-null int64\n",
      "CONDENA            101000 non-null object\n",
      "ESTUDIO            101000 non-null int64\n",
      "TRABAJO            101000 non-null int64\n",
      "EJE_CONDICIONAL    101000 non-null int64\n",
      "REINCIDENTE        101000 non-null object\n",
      "dtypes: int64(11), object(2)\n",
      "memory usage: 10.0+ MB\n"
     ]
    }
   ],
   "source": [
    "DSpriv[\"EJE_CONDICIONAL\"].replace({\"DOR\": 1, \"FIR\":2, \"TOB\":3, \"RES\": 4}, inplace=True)\n",
    "DSpriv.info ()"
   ]
  },
  {
   "cell_type": "code",
   "execution_count": 572,
   "metadata": {
    "scrolled": true
   },
   "outputs": [
    {
     "name": "stdout",
     "output_type": "stream",
     "text": [
      "<class 'pandas.core.frame.DataFrame'>\n",
      "RangeIndex: 101000 entries, 0 to 100999\n",
      "Data columns (total 13 columns):\n",
      "EDAD               101000 non-null int64\n",
      "SEXO               101000 non-null int64\n",
      "NIVEL_EDUC         101000 non-null int64\n",
      "EST_CIVIL          101000 non-null int64\n",
      "HIJOS              101000 non-null int64\n",
      "NACIONALIDAD       101000 non-null int64\n",
      "PROVINCIA          101000 non-null int64\n",
      "DELITO             101000 non-null int64\n",
      "CONDENA            101000 non-null object\n",
      "ESTUDIO            101000 non-null int64\n",
      "TRABAJO            101000 non-null int64\n",
      "EJE_CONDICIONAL    101000 non-null int64\n",
      "REINCIDENTE        101000 non-null int64\n",
      "dtypes: int64(12), object(1)\n",
      "memory usage: 10.0+ MB\n"
     ]
    }
   ],
   "source": [
    "DSpriv[\"REINCIDENTE\"].replace({\"SI\": 1, \"NO\":0}, inplace=True)\n",
    "DSpriv.info ()"
   ]
  },
  {
   "cell_type": "code",
   "execution_count": 573,
   "metadata": {},
   "outputs": [
    {
     "data": {
      "text/html": [
       "<div>\n",
       "<style scoped>\n",
       "    .dataframe tbody tr th:only-of-type {\n",
       "        vertical-align: middle;\n",
       "    }\n",
       "\n",
       "    .dataframe tbody tr th {\n",
       "        vertical-align: top;\n",
       "    }\n",
       "\n",
       "    .dataframe thead th {\n",
       "        text-align: right;\n",
       "    }\n",
       "</style>\n",
       "<table border=\"1\" class=\"dataframe\">\n",
       "  <thead>\n",
       "    <tr style=\"text-align: right;\">\n",
       "      <th></th>\n",
       "      <th>EDAD</th>\n",
       "      <th>SEXO</th>\n",
       "      <th>NIVEL_EDUC</th>\n",
       "      <th>EST_CIVIL</th>\n",
       "      <th>HIJOS</th>\n",
       "      <th>NACIONALIDAD</th>\n",
       "      <th>PROVINCIA</th>\n",
       "      <th>DELITO</th>\n",
       "      <th>CONDENA</th>\n",
       "      <th>ESTUDIO</th>\n",
       "      <th>TRABAJO</th>\n",
       "      <th>EJE_CONDICIONAL</th>\n",
       "      <th>REINCIDENTE</th>\n",
       "    </tr>\n",
       "  </thead>\n",
       "  <tbody>\n",
       "    <tr>\n",
       "      <th>0</th>\n",
       "      <td>2</td>\n",
       "      <td>2</td>\n",
       "      <td>2</td>\n",
       "      <td>3</td>\n",
       "      <td>1</td>\n",
       "      <td>1</td>\n",
       "      <td>2</td>\n",
       "      <td>4</td>\n",
       "      <td>4</td>\n",
       "      <td>1</td>\n",
       "      <td>0</td>\n",
       "      <td>2</td>\n",
       "      <td>0</td>\n",
       "    </tr>\n",
       "    <tr>\n",
       "      <th>1</th>\n",
       "      <td>2</td>\n",
       "      <td>2</td>\n",
       "      <td>2</td>\n",
       "      <td>4</td>\n",
       "      <td>1</td>\n",
       "      <td>1</td>\n",
       "      <td>7</td>\n",
       "      <td>2</td>\n",
       "      <td>5</td>\n",
       "      <td>0</td>\n",
       "      <td>0</td>\n",
       "      <td>1</td>\n",
       "      <td>0</td>\n",
       "    </tr>\n",
       "    <tr>\n",
       "      <th>2</th>\n",
       "      <td>2</td>\n",
       "      <td>1</td>\n",
       "      <td>3</td>\n",
       "      <td>3</td>\n",
       "      <td>0</td>\n",
       "      <td>1</td>\n",
       "      <td>4</td>\n",
       "      <td>6</td>\n",
       "      <td>1</td>\n",
       "      <td>1</td>\n",
       "      <td>1</td>\n",
       "      <td>2</td>\n",
       "      <td>0</td>\n",
       "    </tr>\n",
       "    <tr>\n",
       "      <th>3</th>\n",
       "      <td>3</td>\n",
       "      <td>1</td>\n",
       "      <td>1</td>\n",
       "      <td>2</td>\n",
       "      <td>1</td>\n",
       "      <td>2</td>\n",
       "      <td>1</td>\n",
       "      <td>2</td>\n",
       "      <td>6</td>\n",
       "      <td>1</td>\n",
       "      <td>0</td>\n",
       "      <td>1</td>\n",
       "      <td>0</td>\n",
       "    </tr>\n",
       "    <tr>\n",
       "      <th>4</th>\n",
       "      <td>1</td>\n",
       "      <td>1</td>\n",
       "      <td>1</td>\n",
       "      <td>2</td>\n",
       "      <td>1</td>\n",
       "      <td>1</td>\n",
       "      <td>2</td>\n",
       "      <td>1</td>\n",
       "      <td>4</td>\n",
       "      <td>0</td>\n",
       "      <td>0</td>\n",
       "      <td>3</td>\n",
       "      <td>1</td>\n",
       "    </tr>\n",
       "    <tr>\n",
       "      <th>...</th>\n",
       "      <td>...</td>\n",
       "      <td>...</td>\n",
       "      <td>...</td>\n",
       "      <td>...</td>\n",
       "      <td>...</td>\n",
       "      <td>...</td>\n",
       "      <td>...</td>\n",
       "      <td>...</td>\n",
       "      <td>...</td>\n",
       "      <td>...</td>\n",
       "      <td>...</td>\n",
       "      <td>...</td>\n",
       "      <td>...</td>\n",
       "    </tr>\n",
       "    <tr>\n",
       "      <th>100995</th>\n",
       "      <td>4</td>\n",
       "      <td>1</td>\n",
       "      <td>2</td>\n",
       "      <td>3</td>\n",
       "      <td>1</td>\n",
       "      <td>1</td>\n",
       "      <td>3</td>\n",
       "      <td>9</td>\n",
       "      <td>2</td>\n",
       "      <td>1</td>\n",
       "      <td>0</td>\n",
       "      <td>4</td>\n",
       "      <td>1</td>\n",
       "    </tr>\n",
       "    <tr>\n",
       "      <th>100996</th>\n",
       "      <td>1</td>\n",
       "      <td>2</td>\n",
       "      <td>3</td>\n",
       "      <td>3</td>\n",
       "      <td>1</td>\n",
       "      <td>2</td>\n",
       "      <td>2</td>\n",
       "      <td>2</td>\n",
       "      <td>5</td>\n",
       "      <td>0</td>\n",
       "      <td>0</td>\n",
       "      <td>1</td>\n",
       "      <td>0</td>\n",
       "    </tr>\n",
       "    <tr>\n",
       "      <th>100997</th>\n",
       "      <td>2</td>\n",
       "      <td>1</td>\n",
       "      <td>2</td>\n",
       "      <td>3</td>\n",
       "      <td>1</td>\n",
       "      <td>1</td>\n",
       "      <td>7</td>\n",
       "      <td>8</td>\n",
       "      <td>4</td>\n",
       "      <td>1</td>\n",
       "      <td>0</td>\n",
       "      <td>1</td>\n",
       "      <td>0</td>\n",
       "    </tr>\n",
       "    <tr>\n",
       "      <th>100998</th>\n",
       "      <td>1</td>\n",
       "      <td>1</td>\n",
       "      <td>3</td>\n",
       "      <td>3</td>\n",
       "      <td>1</td>\n",
       "      <td>1</td>\n",
       "      <td>3</td>\n",
       "      <td>1</td>\n",
       "      <td>4</td>\n",
       "      <td>0</td>\n",
       "      <td>0</td>\n",
       "      <td>3</td>\n",
       "      <td>1</td>\n",
       "    </tr>\n",
       "    <tr>\n",
       "      <th>100999</th>\n",
       "      <td>1</td>\n",
       "      <td>1</td>\n",
       "      <td>2</td>\n",
       "      <td>2</td>\n",
       "      <td>1</td>\n",
       "      <td>1</td>\n",
       "      <td>2</td>\n",
       "      <td>2</td>\n",
       "      <td>5</td>\n",
       "      <td>1</td>\n",
       "      <td>0</td>\n",
       "      <td>2</td>\n",
       "      <td>0</td>\n",
       "    </tr>\n",
       "  </tbody>\n",
       "</table>\n",
       "<p>101000 rows × 13 columns</p>\n",
       "</div>"
      ],
      "text/plain": [
       "        EDAD  SEXO  NIVEL_EDUC  EST_CIVIL  HIJOS  NACIONALIDAD  PROVINCIA  \\\n",
       "0          2     2           2          3      1             1          2   \n",
       "1          2     2           2          4      1             1          7   \n",
       "2          2     1           3          3      0             1          4   \n",
       "3          3     1           1          2      1             2          1   \n",
       "4          1     1           1          2      1             1          2   \n",
       "...      ...   ...         ...        ...    ...           ...        ...   \n",
       "100995     4     1           2          3      1             1          3   \n",
       "100996     1     2           3          3      1             2          2   \n",
       "100997     2     1           2          3      1             1          7   \n",
       "100998     1     1           3          3      1             1          3   \n",
       "100999     1     1           2          2      1             1          2   \n",
       "\n",
       "        DELITO CONDENA  ESTUDIO  TRABAJO  EJE_CONDICIONAL  REINCIDENTE  \n",
       "0            4       4        1        0                2            0  \n",
       "1            2       5        0        0                1            0  \n",
       "2            6       1        1        1                2            0  \n",
       "3            2       6        1        0                1            0  \n",
       "4            1       4        0        0                3            1  \n",
       "...        ...     ...      ...      ...              ...          ...  \n",
       "100995       9       2        1        0                4            1  \n",
       "100996       2       5        0        0                1            0  \n",
       "100997       8       4        1        0                1            0  \n",
       "100998       1       4        0        0                3            1  \n",
       "100999       2       5        1        0                2            0  \n",
       "\n",
       "[101000 rows x 13 columns]"
      ]
     },
     "execution_count": 573,
     "metadata": {},
     "output_type": "execute_result"
    }
   ],
   "source": [
    "DSpriv"
   ]
  },
  {
   "cell_type": "code",
   "execution_count": 574,
   "metadata": {
    "scrolled": false
   },
   "outputs": [
    {
     "data": {
      "text/plain": [
       "<matplotlib.axes._subplots.AxesSubplot at 0x2c8375f248>"
      ]
     },
     "execution_count": 574,
     "metadata": {},
     "output_type": "execute_result"
    },
    {
     "data": {
      "image/png": "[encoded data removed]",
      "text/plain": [
       "<Figure size 720x576 with 2 Axes>"
      ]
     },
     "metadata": {
      "needs_background": "light"
     },
     "output_type": "display_data"
    }
   ],
   "source": [
    "covMat = DSpriv.cov () \n",
    "f, ax = plt.subplots(figsize=(10, 8))\n",
    "sns.heatmap(covMat, mask=np.zeros_like(covMat, dtype=np.bool), \n",
    "            cmap=sns.diverging_palette(220, 10, as_cmap=True),square=True, ax=ax)"
   ]
  },
  {
   "cell_type": "code",
   "execution_count": 575,
   "metadata": {
    "scrolled": false
   },
   "outputs": [
    {
     "data": {
      "text/plain": [
       "<matplotlib.axes._subplots.AxesSubplot at 0x2c892e9c08>"
      ]
     },
     "execution_count": 575,
     "metadata": {},
     "output_type": "execute_result"
    },
    {
     "data": {
      "image/png": "[encoded data removed]",
      "text/plain": [
       "<Figure size 720x576 with 2 Axes>"
      ]
     },
     "metadata": {
      "needs_background": "light"
     },
     "output_type": "display_data"
    }
   ],
   "source": [
    "corrMat = DSpriv.corr () \n",
    "f, ax = plt.subplots(figsize=(10, 8))\n",
    "sns.heatmap(corrMat, mask=np.zeros_like(corrMat, dtype=np.bool), \n",
    "            cmap=sns.diverging_palette(220, 10, as_cmap=True),square=False, ax=ax)"
   ]
  },
  {
   "cell_type": "code",
   "execution_count": 345,
   "metadata": {},
   "outputs": [],
   "source": [
    "#Exportar el DataFrame depurado\n",
    "DSpriv.to_csv(r'C:\\Users\\MICHAEL\\Desktop\\Big Data\\Módulo 5\\Trabajo Final\\Dataset_Depurados.csv', sep=';')"
   ]
  },
  {
   "cell_type": "code",
   "execution_count": 420,
   "metadata": {},
   "outputs": [],
   "source": [
    "DsDepurado = pd.read_csv(r'C:\\Users\\MICHAEL\\Desktop\\Big Data\\Módulo 5\\Trabajo Final\\Dataset_Depurados.csv', sep=';', header =0)"
   ]
  },
  {
   "cell_type": "markdown",
   "metadata": {},
   "source": [
    "# Train and Test data"
   ]
  },
  {
   "cell_type": "code",
   "execution_count": 576,
   "metadata": {},
   "outputs": [
    {
     "data": {
      "text/html": [
       "<div>\n",
       "<style scoped>\n",
       "    .dataframe tbody tr th:only-of-type {\n",
       "        vertical-align: middle;\n",
       "    }\n",
       "\n",
       "    .dataframe tbody tr th {\n",
       "        vertical-align: top;\n",
       "    }\n",
       "\n",
       "    .dataframe thead th {\n",
       "        text-align: right;\n",
       "    }\n",
       "</style>\n",
       "<table border=\"1\" class=\"dataframe\">\n",
       "  <thead>\n",
       "    <tr style=\"text-align: right;\">\n",
       "      <th></th>\n",
       "      <th>EDAD</th>\n",
       "      <th>SEXO</th>\n",
       "      <th>NIVEL_EDUC</th>\n",
       "      <th>EST_CIVIL</th>\n",
       "      <th>HIJOS</th>\n",
       "      <th>NACIONALIDAD</th>\n",
       "      <th>PROVINCIA</th>\n",
       "      <th>DELITO</th>\n",
       "      <th>CONDENA</th>\n",
       "      <th>ESTUDIO</th>\n",
       "      <th>TRABAJO</th>\n",
       "      <th>EJE_CONDICIONAL</th>\n",
       "      <th>REINCIDENTE</th>\n",
       "    </tr>\n",
       "  </thead>\n",
       "  <tbody>\n",
       "    <tr>\n",
       "      <th>0</th>\n",
       "      <td>2</td>\n",
       "      <td>2</td>\n",
       "      <td>2</td>\n",
       "      <td>3</td>\n",
       "      <td>1</td>\n",
       "      <td>1</td>\n",
       "      <td>2</td>\n",
       "      <td>4</td>\n",
       "      <td>4</td>\n",
       "      <td>1</td>\n",
       "      <td>0</td>\n",
       "      <td>2</td>\n",
       "      <td>0</td>\n",
       "    </tr>\n",
       "    <tr>\n",
       "      <th>1</th>\n",
       "      <td>2</td>\n",
       "      <td>2</td>\n",
       "      <td>2</td>\n",
       "      <td>4</td>\n",
       "      <td>1</td>\n",
       "      <td>1</td>\n",
       "      <td>7</td>\n",
       "      <td>2</td>\n",
       "      <td>5</td>\n",
       "      <td>0</td>\n",
       "      <td>0</td>\n",
       "      <td>1</td>\n",
       "      <td>0</td>\n",
       "    </tr>\n",
       "    <tr>\n",
       "      <th>2</th>\n",
       "      <td>2</td>\n",
       "      <td>1</td>\n",
       "      <td>3</td>\n",
       "      <td>3</td>\n",
       "      <td>0</td>\n",
       "      <td>1</td>\n",
       "      <td>4</td>\n",
       "      <td>6</td>\n",
       "      <td>1</td>\n",
       "      <td>1</td>\n",
       "      <td>1</td>\n",
       "      <td>2</td>\n",
       "      <td>0</td>\n",
       "    </tr>\n",
       "    <tr>\n",
       "      <th>3</th>\n",
       "      <td>3</td>\n",
       "      <td>1</td>\n",
       "      <td>1</td>\n",
       "      <td>2</td>\n",
       "      <td>1</td>\n",
       "      <td>2</td>\n",
       "      <td>1</td>\n",
       "      <td>2</td>\n",
       "      <td>6</td>\n",
       "      <td>1</td>\n",
       "      <td>0</td>\n",
       "      <td>1</td>\n",
       "      <td>0</td>\n",
       "    </tr>\n",
       "    <tr>\n",
       "      <th>4</th>\n",
       "      <td>1</td>\n",
       "      <td>1</td>\n",
       "      <td>1</td>\n",
       "      <td>2</td>\n",
       "      <td>1</td>\n",
       "      <td>1</td>\n",
       "      <td>2</td>\n",
       "      <td>1</td>\n",
       "      <td>4</td>\n",
       "      <td>0</td>\n",
       "      <td>0</td>\n",
       "      <td>3</td>\n",
       "      <td>1</td>\n",
       "    </tr>\n",
       "    <tr>\n",
       "      <th>...</th>\n",
       "      <td>...</td>\n",
       "      <td>...</td>\n",
       "      <td>...</td>\n",
       "      <td>...</td>\n",
       "      <td>...</td>\n",
       "      <td>...</td>\n",
       "      <td>...</td>\n",
       "      <td>...</td>\n",
       "      <td>...</td>\n",
       "      <td>...</td>\n",
       "      <td>...</td>\n",
       "      <td>...</td>\n",
       "      <td>...</td>\n",
       "    </tr>\n",
       "    <tr>\n",
       "      <th>100995</th>\n",
       "      <td>4</td>\n",
       "      <td>1</td>\n",
       "      <td>2</td>\n",
       "      <td>3</td>\n",
       "      <td>1</td>\n",
       "      <td>1</td>\n",
       "      <td>3</td>\n",
       "      <td>9</td>\n",
       "      <td>2</td>\n",
       "      <td>1</td>\n",
       "      <td>0</td>\n",
       "      <td>4</td>\n",
       "      <td>1</td>\n",
       "    </tr>\n",
       "    <tr>\n",
       "      <th>100996</th>\n",
       "      <td>1</td>\n",
       "      <td>2</td>\n",
       "      <td>3</td>\n",
       "      <td>3</td>\n",
       "      <td>1</td>\n",
       "      <td>2</td>\n",
       "      <td>2</td>\n",
       "      <td>2</td>\n",
       "      <td>5</td>\n",
       "      <td>0</td>\n",
       "      <td>0</td>\n",
       "      <td>1</td>\n",
       "      <td>0</td>\n",
       "    </tr>\n",
       "    <tr>\n",
       "      <th>100997</th>\n",
       "      <td>2</td>\n",
       "      <td>1</td>\n",
       "      <td>2</td>\n",
       "      <td>3</td>\n",
       "      <td>1</td>\n",
       "      <td>1</td>\n",
       "      <td>7</td>\n",
       "      <td>8</td>\n",
       "      <td>4</td>\n",
       "      <td>1</td>\n",
       "      <td>0</td>\n",
       "      <td>1</td>\n",
       "      <td>0</td>\n",
       "    </tr>\n",
       "    <tr>\n",
       "      <th>100998</th>\n",
       "      <td>1</td>\n",
       "      <td>1</td>\n",
       "      <td>3</td>\n",
       "      <td>3</td>\n",
       "      <td>1</td>\n",
       "      <td>1</td>\n",
       "      <td>3</td>\n",
       "      <td>1</td>\n",
       "      <td>4</td>\n",
       "      <td>0</td>\n",
       "      <td>0</td>\n",
       "      <td>3</td>\n",
       "      <td>1</td>\n",
       "    </tr>\n",
       "    <tr>\n",
       "      <th>100999</th>\n",
       "      <td>1</td>\n",
       "      <td>1</td>\n",
       "      <td>2</td>\n",
       "      <td>2</td>\n",
       "      <td>1</td>\n",
       "      <td>1</td>\n",
       "      <td>2</td>\n",
       "      <td>2</td>\n",
       "      <td>5</td>\n",
       "      <td>1</td>\n",
       "      <td>0</td>\n",
       "      <td>2</td>\n",
       "      <td>0</td>\n",
       "    </tr>\n",
       "  </tbody>\n",
       "</table>\n",
       "<p>101000 rows × 13 columns</p>\n",
       "</div>"
      ],
      "text/plain": [
       "        EDAD  SEXO  NIVEL_EDUC  EST_CIVIL  HIJOS  NACIONALIDAD  PROVINCIA  \\\n",
       "0          2     2           2          3      1             1          2   \n",
       "1          2     2           2          4      1             1          7   \n",
       "2          2     1           3          3      0             1          4   \n",
       "3          3     1           1          2      1             2          1   \n",
       "4          1     1           1          2      1             1          2   \n",
       "...      ...   ...         ...        ...    ...           ...        ...   \n",
       "100995     4     1           2          3      1             1          3   \n",
       "100996     1     2           3          3      1             2          2   \n",
       "100997     2     1           2          3      1             1          7   \n",
       "100998     1     1           3          3      1             1          3   \n",
       "100999     1     1           2          2      1             1          2   \n",
       "\n",
       "        DELITO  CONDENA  ESTUDIO  TRABAJO  EJE_CONDICIONAL  REINCIDENTE  \n",
       "0            4        4        1        0                2            0  \n",
       "1            2        5        0        0                1            0  \n",
       "2            6        1        1        1                2            0  \n",
       "3            2        6        1        0                1            0  \n",
       "4            1        4        0        0                3            1  \n",
       "...        ...      ...      ...      ...              ...          ...  \n",
       "100995       9        2        1        0                4            1  \n",
       "100996       2        5        0        0                1            0  \n",
       "100997       8        4        1        0                1            0  \n",
       "100998       1        4        0        0                3            1  \n",
       "100999       2        5        1        0                2            0  \n",
       "\n",
       "[101000 rows x 13 columns]"
      ]
     },
     "execution_count": 576,
     "metadata": {},
     "output_type": "execute_result"
    }
   ],
   "source": [
    "DsDepurado"
   ]
  },
  {
   "cell_type": "code",
   "execution_count": 577,
   "metadata": {},
   "outputs": [],
   "source": [
    "X = DsDepurado.iloc[:, 0:12].values\n",
    "y = DsDepurado.iloc[:, 12].values"
   ]
  },
  {
   "cell_type": "code",
   "execution_count": 443,
   "metadata": {},
   "outputs": [],
   "source": [
    "#Dividir el set de datos en train and test: 70% y 30%\n",
    "X_train, X_test, y_train, y_test = train_test_split(X, y, test_size=0.3, random_state=0)"
   ]
  },
  {
   "cell_type": "code",
   "execution_count": 444,
   "metadata": {
    "scrolled": true
   },
   "outputs": [
    {
     "name": "stdout",
     "output_type": "stream",
     "text": [
      "train :70700\n",
      "test :30300\n"
     ]
    }
   ],
   "source": [
    "Str_train = \"train :\" + str(len(X_train))\n",
    "Str_test = \"test :\" + str(len(X_test))\n",
    "print(Str_train)\n",
    "print(Str_test)"
   ]
  },
  {
   "cell_type": "code",
   "execution_count": 445,
   "metadata": {},
   "outputs": [
    {
     "data": {
      "text/plain": [
       "array([[2, 1, 1, ..., 1, 0, 3],\n",
       "       [2, 2, 2, ..., 0, 0, 2],\n",
       "       [1, 1, 2, ..., 1, 0, 2],\n",
       "       ...,\n",
       "       [2, 2, 2, ..., 1, 0, 2],\n",
       "       [2, 1, 2, ..., 0, 0, 3],\n",
       "       [4, 1, 2, ..., 0, 0, 1]], dtype=int64)"
      ]
     },
     "execution_count": 445,
     "metadata": {},
     "output_type": "execute_result"
    }
   ],
   "source": [
    "X_train"
   ]
  },
  {
   "cell_type": "markdown",
   "metadata": {},
   "source": [
    "# Modelo Random Forest"
   ]
  },
  {
   "cell_type": "code",
   "execution_count": 492,
   "metadata": {},
   "outputs": [],
   "source": [
    "#Asignación de modelo Random Forest a la variable RFpriv\n",
    "RFpriv = RandomForestClassifier(n_estimators=200, max_depth=10, random_state=0, min_samples_split=5)\n",
    "\n",
    "#Entrenamiento del modelo\n",
    "RFpriv.fit(X_train, y_train)\n",
    "\n",
    "#Generar Predicciones\n",
    "y_pred = RFpriv.predict(X_test)"
   ]
  },
  {
   "cell_type": "code",
   "execution_count": 493,
   "metadata": {},
   "outputs": [
    {
     "name": "stdout",
     "output_type": "stream",
     "text": [
      "[0.76725601 0.76760962 0.76732673 0.77227723 0.76371994]\n"
     ]
    }
   ],
   "source": [
    "#Validación con \n",
    "print (cross_val_score (RFpriv, X_train, y_train)) "
   ]
  },
  {
   "cell_type": "code",
   "execution_count": 494,
   "metadata": {},
   "outputs": [
    {
     "data": {
      "text/plain": [
       "0.7906364922206507"
      ]
     },
     "execution_count": 494,
     "metadata": {},
     "output_type": "execute_result"
    }
   ],
   "source": [
    "#Calificación de rendimiento\n",
    "RFpriv.score(X_train,y_train)"
   ]
  },
  {
   "cell_type": "code",
   "execution_count": 495,
   "metadata": {
    "scrolled": false
   },
   "outputs": [
    {
     "name": "stdout",
     "output_type": "stream",
     "text": [
      "Accuracy: 0.7633333333333333\n"
     ]
    }
   ],
   "source": [
    "# Model Accuracy, how often is the classifier correct?\n",
    "print(\"Accuracy:\",metrics.accuracy_score(y_test, y_pred))"
   ]
  },
  {
   "cell_type": "markdown",
   "metadata": {},
   "source": [
    "# Modelo Neural Network"
   ]
  },
  {
   "cell_type": "code",
   "execution_count": 507,
   "metadata": {
    "scrolled": true
   },
   "outputs": [],
   "source": [
    "#Asignación de modelo Random Forest a la variable RFpriv\n",
    "NNpriv = MLPClassifier(alpha=0.1, hidden_layer_sizes=(6), max_iter=5000, random_state=3, solver='lbfgs')\n",
    "\n",
    "#Entrenamiento del modelo#\n",
    "NNpriv.fit(X_train, y_train)\n",
    "\n",
    "#Generar Predicciones\n",
    "y_pred = NNpriv.predict(X_test)"
   ]
  },
  {
   "cell_type": "code",
   "execution_count": 508,
   "metadata": {
    "scrolled": true
   },
   "outputs": [
    {
     "name": "stdout",
     "output_type": "stream",
     "text": [
      "[0.75304102 0.75148515 0.73514851 0.75636492 0.74865629]\n"
     ]
    }
   ],
   "source": [
    "#Validación con \n",
    "print (cross_val_score (NNpriv, X_train, y_train)) "
   ]
  },
  {
   "cell_type": "code",
   "execution_count": 509,
   "metadata": {
    "scrolled": true
   },
   "outputs": [
    {
     "data": {
      "text/plain": [
       "0.7534229137199434"
      ]
     },
     "execution_count": 509,
     "metadata": {},
     "output_type": "execute_result"
    }
   ],
   "source": [
    "#Calificación de rendimiento\n",
    "NNpriv.score(X_train,y_train)"
   ]
  },
  {
   "cell_type": "code",
   "execution_count": 510,
   "metadata": {},
   "outputs": [
    {
     "name": "stdout",
     "output_type": "stream",
     "text": [
      "Accuracy: 0.7524752475247525\n"
     ]
    }
   ],
   "source": [
    "# Model Accuracy, how often is the classifier correct?\n",
    "print(\"Accuracy:\",metrics.accuracy_score(y_test, y_pred))"
   ]
  },
  {
   "cell_type": "markdown",
   "metadata": {},
   "source": [
    "# Modelo K Neighbors"
   ]
  },
  {
   "cell_type": "code",
   "execution_count": 454,
   "metadata": {},
   "outputs": [],
   "source": [
    "#Asignación de modelo Random Forest a la variable KNpriv\n",
    "KNpriv = KNeighborsClassifier(n_neighbors=5, algorithm='ball_tree', leaf_size=10, p=1)\n",
    "\n",
    "#Entrenamiento del modelo\n",
    "KNpriv.fit(X_train, y_train)\n",
    "\n",
    "#Generar Predicciones\n",
    "y_pred = KNpriv.predict(X_test)"
   ]
  },
  {
   "cell_type": "code",
   "execution_count": 455,
   "metadata": {},
   "outputs": [
    {
     "name": "stdout",
     "output_type": "stream",
     "text": [
      "[0.71421499 0.71760962 0.71647808 0.71612447 0.71272984]\n"
     ]
    }
   ],
   "source": [
    "#Validación con \n",
    "print (cross_val_score (KNpriv, X_train, y_train)) "
   ]
  },
  {
   "cell_type": "code",
   "execution_count": 456,
   "metadata": {
    "scrolled": false
   },
   "outputs": [
    {
     "data": {
      "text/plain": [
       "0.8126025459688826"
      ]
     },
     "execution_count": 456,
     "metadata": {},
     "output_type": "execute_result"
    }
   ],
   "source": [
    "#Calificación de rendimiento\n",
    "KNpriv.score(X_train,y_train)"
   ]
  },
  {
   "cell_type": "code",
   "execution_count": 457,
   "metadata": {
    "scrolled": true
   },
   "outputs": [
    {
     "name": "stdout",
     "output_type": "stream",
     "text": [
      "Accuracy: 0.715907590759076\n"
     ]
    }
   ],
   "source": [
    "# Model Accuracy, how often is the classifier correct?\n",
    "print(\"Accuracy:\",metrics.accuracy_score(y_test, y_pred))"
   ]
  },
  {
   "cell_type": "markdown",
   "metadata": {},
   "source": [
    "# Ajuste RFE sobre el modelo mas eficiente"
   ]
  },
  {
   "cell_type": "code",
   "execution_count": 479,
   "metadata": {},
   "outputs": [],
   "source": [
    "RFrfe = RFE(RFpriv, 7)"
   ]
  },
  {
   "cell_type": "code",
   "execution_count": 480,
   "metadata": {},
   "outputs": [
    {
     "name": "stdout",
     "output_type": "stream",
     "text": [
      "[ True False  True  True  True False False False False  True  True  True]\n",
      "[1 5 1 1 1 6 3 2 4 1 1 1]\n"
     ]
    }
   ],
   "source": [
    "RFrfe = RFrfe.fit(X, y)\n",
    "# imprimir resúmenes para la selección de atributos \n",
    "print (RFrfe.support_) \n",
    "print (RFrfe.ranking_)"
   ]
  },
  {
   "cell_type": "code",
   "execution_count": 481,
   "metadata": {},
   "outputs": [],
   "source": [
    "Xrfe = DsDepurado.iloc[:,[0,2,3,4,9,10,11]].values\n",
    "yrfe = DsDepurado.iloc[:, 12].values"
   ]
  },
  {
   "cell_type": "code",
   "execution_count": 482,
   "metadata": {},
   "outputs": [],
   "source": [
    "#Dividir el set de datos en train and test: 70% y 30%\n",
    "Xrfe_train, Xrfe_test, yrfe_train, yrfe_test = train_test_split(Xrfe, yrfe, test_size=0.3, random_state=0)"
   ]
  },
  {
   "cell_type": "code",
   "execution_count": 483,
   "metadata": {},
   "outputs": [
    {
     "name": "stdout",
     "output_type": "stream",
     "text": [
      "train :70700\n",
      "test :30300\n"
     ]
    }
   ],
   "source": [
    "Str_train = \"train :\" + str(len(Xrfe_train))\n",
    "Str_test = \"test :\" + str(len(Xrfe_test))\n",
    "print(Str_train)\n",
    "print(Str_test)"
   ]
  },
  {
   "cell_type": "code",
   "execution_count": 484,
   "metadata": {},
   "outputs": [],
   "source": [
    "#Asignación de modelo Random Forest a la variable RFpriv\n",
    "RFrfe_priv = RandomForestClassifier(n_estimators=100, max_depth=10, random_state=0, min_samples_split=5)\n",
    "\n",
    "#Entrenamiento del modelo\n",
    "RFrfe_priv.fit(Xrfe_train, yrfe_train)\n",
    "\n",
    "#Generar Predicciones\n",
    "yrfe_pred = RFrfe_priv.predict(Xrfe_test)"
   ]
  },
  {
   "cell_type": "code",
   "execution_count": 485,
   "metadata": {},
   "outputs": [
    {
     "name": "stdout",
     "output_type": "stream",
     "text": [
      "[0.77015559 0.77751061 0.77454031 0.77800566 0.77057992]\n"
     ]
    }
   ],
   "source": [
    "#Validación con \n",
    "print (cross_val_score (RFrfe_priv, Xrfe_train, yrfe_train)) "
   ]
  },
  {
   "cell_type": "code",
   "execution_count": 486,
   "metadata": {},
   "outputs": [
    {
     "data": {
      "text/plain": [
       "0.7856435643564357"
      ]
     },
     "execution_count": 486,
     "metadata": {},
     "output_type": "execute_result"
    }
   ],
   "source": [
    "#Calificación de rendimiento\n",
    "RFrfe_priv.score(Xrfe_train,yrfe_train)"
   ]
  },
  {
   "cell_type": "code",
   "execution_count": 487,
   "metadata": {},
   "outputs": [
    {
     "name": "stdout",
     "output_type": "stream",
     "text": [
      "Accuracy: 0.7677887788778878\n"
     ]
    }
   ],
   "source": [
    "# Model Accuracy, how often is the classifier correct?\n",
    "print(\"Accuracy:\",metrics.accuracy_score(yrfe_test, yrfe_pred))"
   ]
  },
  {
   "cell_type": "markdown",
   "metadata": {},
   "source": [
    "# Matriz de confusión"
   ]
  },
  {
   "cell_type": "code",
   "execution_count": 578,
   "metadata": {
    "scrolled": false
   },
   "outputs": [
    {
     "name": "stdout",
     "output_type": "stream",
     "text": [
      "Matriz de confusión\n",
      "[[11349  4383]\n",
      " [ 2653 11915]]\n"
     ]
    },
    {
     "data": {
      "image/png": "[encoded data removed]",
      "text/plain": [
       "<Figure size 432x288 with 2 Axes>"
      ]
     },
     "metadata": {
      "needs_background": "light"
     },
     "output_type": "display_data"
    },
    {
     "name": "stdout",
     "output_type": "stream",
     "text": [
      "Matriz de confusión normalizada\n",
      "[[0.72139588 0.27860412]\n",
      " [0.18211148 0.81788852]]\n"
     ]
    },
    {
     "data": {
      "image/png": "[encoded data removed]",
      "text/plain": [
       "<Figure size 432x288 with 2 Axes>"
      ]
     },
     "metadata": {
      "needs_background": "light"
     },
     "output_type": "display_data"
    }
   ],
   "source": [
    "titles_options = [(\"Matriz de confusión\", None),\n",
    "                  (\"Matriz de confusión normalizada\", 'true')]\n",
    "for title, normalize in titles_options:\n",
    "    disp = plot_confusion_matrix(RFrfe_priv, Xrfe_test, yrfe_test,\n",
    "                                 cmap=plt.cm.Blues,\n",
    "                                 normalize=normalize)\n",
    "    disp.ax_.set_title(title)\n",
    "\n",
    "    print(title)\n",
    "    print(disp.confusion_matrix)\n",
    "    plt.show()"
   ]
  }
 ],
 "metadata": {
  "kernelspec": {
   "display_name": "Python 3",
   "language": "python",
   "name": "python3"
  },
  "language_info": {
   "codemirror_mode": {
    "name": "ipython",
    "version": 3
   },
   "file_extension": ".py",
   "mimetype": "text/x-python",
   "name": "python",
   "nbconvert_exporter": "python",
   "pygments_lexer": "ipython3",
   "version": "3.7.5"
  },
  "varInspector": {
   "cols": {
    "lenName": 16,
    "lenType": 16,
    "lenVar": 40
   },
   "kernels_config": {
    "python": {
     "delete_cmd_postfix": "",
     "delete_cmd_prefix": "del ",
     "library": "var_list.py",
     "varRefreshCmd": "print(var_dic_list())"
    },
    "r": {
     "delete_cmd_postfix": ") ",
     "delete_cmd_prefix": "rm(",
     "library": "var_list.r",
     "varRefreshCmd": "cat(var_dic_list()) "
    }
   },
   "types_to_exclude": [
    "module",
    "function",
    "builtin_function_or_method",
    "instance",
    "_Feature"
   ],
   "window_display": false
  }
 },
 "nbformat": 4,
 "nbformat_minor": 2
}
